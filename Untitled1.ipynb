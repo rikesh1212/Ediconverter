{
 "cells": [
  {
   "cell_type": "code",
   "execution_count": 2,
   "id": "missing-albert",
   "metadata": {},
   "outputs": [
    {
     "data": {
      "text/plain": [
       "dtype('O')"
      ]
     },
     "execution_count": 2,
     "metadata": {},
     "output_type": "execute_result"
    }
   ],
   "source": [
    "import pandas as pd\n",
    "\n",
    "df = pd.read_excel('profile.xlsx')\n",
    "\n",
    "df1 = df.T\n",
    "\n",
    "new_header = df1.iloc[0] #grab the first row for the header\n",
    "df1 = df1[1:] #take the data less the header row\n",
    "df1.columns = new_header #set the header row as the df header\n",
    "\n",
    "\n",
    "\n",
    "sender_id = df1.loc[:,'DUNS_NO']\n",
    "sender_id.dtypes"
   ]
  },
  {
   "cell_type": "code",
   "execution_count": null,
   "id": "static-format",
   "metadata": {},
   "outputs": [],
   "source": []
  }
 ],
 "metadata": {
  "kernelspec": {
   "display_name": "Python 3",
   "language": "python",
   "name": "python3"
  },
  "language_info": {
   "codemirror_mode": {
    "name": "ipython",
    "version": 3
   },
   "file_extension": ".py",
   "mimetype": "text/x-python",
   "name": "python",
   "nbconvert_exporter": "python",
   "pygments_lexer": "ipython3",
   "version": "3.8.5"
  }
 },
 "nbformat": 4,
 "nbformat_minor": 5
}
