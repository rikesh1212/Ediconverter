{
 "cells": [
  {
   "cell_type": "code",
   "execution_count": 13,
   "id": "polish-deficit",
   "metadata": {},
   "outputs": [
    {
     "data": {
      "text/plain": [
       "['1',\n",
       " '2',\n",
       " ['PHOTO', 'steiner_t24_tactical_8x24_binocular_v.jpg'],\n",
       " ['PHOTO', 'steiner_t24_tactical_8x24_binocular_a.jpg'],\n",
       " ['PHOTO', 'mm1050_angle.jpg'],\n",
       " ['PHOTO', 'mm1050_h.jpg'],\n",
       " ['PHOTO', 'Military_Marine_7x50_angle.jpg'],\n",
       " ['PHOTO', 'Military_Marine_7x50_h.jpg'],\n",
       " ['PHOTO', 'shadowquest_a.jpg'],\n",
       " ['PHOTO', 'shadowquest_h.jpg'],\n",
       " ['PHOTO', 'steiner_m5xi_military_5_25x56_scope_a_0.jpg'],\n",
       " ['PHOTO', 'steiner_m5xi_military_5_25x56_scope_h_0.jpg'],\n",
       " ['PHOTO', 'RD5590x.jpg'],\n",
       " '3',\n",
       " '4']"
      ]
     },
     "execution_count": 13,
     "metadata": {},
     "output_type": "execute_result"
    }
   ],
   "source": [
    "import pandas as pd\n",
    "\n",
    "df = pd.read_excel('IPHOTO.xlsx')\n",
    "\n",
    "vals =['1','2','3','4']\n",
    "\n",
    "\n",
    "\n",
    "df = df.fillna('')\n",
    "\n",
    "jpgs =  df.filter(regex = 'PHOTO').stack()\n",
    "rows = [[\"PHOTO\", jpg] for jpg in jpgs[jpgs != ''].unique()]\n",
    "vals = vals[:2] + rows + vals[2:]\n",
    "\n",
    "vals"
   ]
  },
  {
   "cell_type": "code",
   "execution_count": null,
   "id": "promising-credits",
   "metadata": {},
   "outputs": [],
   "source": []
  }
 ],
 "metadata": {
  "kernelspec": {
   "display_name": "Python 3",
   "language": "python",
   "name": "python3"
  },
  "language_info": {
   "codemirror_mode": {
    "name": "ipython",
    "version": 3
   },
   "file_extension": ".py",
   "mimetype": "text/x-python",
   "name": "python",
   "nbconvert_exporter": "python",
   "pygments_lexer": "ipython3",
   "version": "3.8.5"
  }
 },
 "nbformat": 4,
 "nbformat_minor": 5
}
