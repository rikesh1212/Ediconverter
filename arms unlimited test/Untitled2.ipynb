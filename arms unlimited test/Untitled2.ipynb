{
 "cells": [
  {
   "cell_type": "code",
   "execution_count": 14,
   "id": "polish-deficit",
   "metadata": {},
   "outputs": [
    {
     "name": "stdout",
     "output_type": "stream",
     "text": [
      "['1', '2', ['PHOTO', 'steiner_t24_tactical_8x24_binocular_v.jpg'], ['PHOTO', 'steiner_t24_tactical_8x24_binocular_a.jpg'], '3', '4', '1', '2', ['PHOTO', 'mm1050_angle.jpg'], ['PHOTO', 'mm1050_h.jpg'], '3', '4', '1', '2', ['PHOTO', 'Military_Marine_7x50_angle.jpg'], ['PHOTO', 'Military_Marine_7x50_h.jpg'], '3', '4', '1', '2', ['PHOTO', 'shadowquest_a.jpg'], ['PHOTO', 'shadowquest_h.jpg'], '3', '4', '1', '2', ['PHOTO', 'steiner_m5xi_military_5_25x56_scope_a_0.jpg'], ['PHOTO', 'steiner_m5xi_military_5_25x56_scope_h_0.jpg'], '3', '4', '1', '2', ['PHOTO', 'RD5590x.jpg'], '3', '4']\n"
     ]
    }
   ],
   "source": [
    "import pandas as pd\n",
    "\n",
    "import numpy\n",
    "\n",
    "df = pd.read_excel('IPHOTO.xlsx')\n",
    "\n",
    "vals =['1','2','3','4']\n",
    "\n",
    "\n",
    "\n",
    "df1 = df.fillna('').filter(like='PHOTO')\n",
    "\n",
    "\n",
    "out = [y for x in df1.to_numpy() \n",
    "         for y in vals[:2] + [['PHOTO',z] for z in x[x!='']] + vals[2:]]\n",
    "\n",
    "print(out)"
   ]
  },
  {
   "cell_type": "code",
   "execution_count": null,
   "id": "promising-credits",
   "metadata": {},
   "outputs": [],
   "source": []
  }
 ],
 "metadata": {
  "kernelspec": {
   "display_name": "Python 3",
   "language": "python",
   "name": "python3"
  },
  "language_info": {
   "codemirror_mode": {
    "name": "ipython",
    "version": 3
   },
   "file_extension": ".py",
   "mimetype": "text/x-python",
   "name": "python",
   "nbconvert_exporter": "python",
   "pygments_lexer": "ipython3",
   "version": "3.8.5"
  }
 },
 "nbformat": 4,
 "nbformat_minor": 5
}
